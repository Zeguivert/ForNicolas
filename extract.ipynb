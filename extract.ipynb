{
 "cells": [
  {
   "cell_type": "code",
   "execution_count": 1,
   "metadata": {},
   "outputs": [
    {
     "name": "stdout",
     "output_type": "stream",
     "text": [
      "Welcome to JupyROOT 6.15/01\n"
     ]
    }
   ],
   "source": [
    "# SOME USEFUL TRICKS\n",
    "\n",
    "import ROOT\n",
    "import rootpy\n",
    "import numpy as np\n",
    "#import root_numpy as rnp\n",
    "\n",
    "\n",
    "from rootpy.tree import Tree\n",
    "\n",
    "from rootpy.io import root_open\n"
   ]
  },
  {
   "cell_type": "code",
   "execution_count": 2,
   "metadata": {
    "scrolled": true
   },
   "outputs": [],
   "source": [
    "# DATA\n",
    "\n",
    "def extract_tree(file_path, tree_path, tree_name):\n",
    "\n",
    "    data_file = root_open(file_path,\"read\")\n",
    "    dir = data_file.GetDirectory(tree_path)\n",
    "\n",
    "    if data_file:\n",
    "        return dir.Get(tree_name) #rnp.tree2array( dir.Get(tree_name) ) \n",
    "    else:\n",
    "        print \"File or tree/hist not found, try again !\""
   ]
  },
  {
   "cell_type": "code",
   "execution_count": 3,
   "metadata": {},
   "outputs": [],
   "source": [
    "#tree = extract_tree(\"data/dvcs_tree_P07slot2_DR4.7.root\",\"With RPD/Dvcs Tree - t_cut_2\",\"T_dvcs\")\n",
    "#from rootpy.plotting import Hist, HistStack, Canvas, Pad\n",
    "\n",
    "#c1=Canvas()\n",
    "#to_plot = \"phi\"\n",
    "#selection =\"1.*(beam_charge == 1)\"\n",
    "#hist = Hist(100, -1, 1, type='F') #this is old school, using rootpy there are much better ways\n",
    "#tree.Draw(to_plot,selection=selection,hist=hist)\n",
    "#c1.cd()\n",
    "#hist.Draw(\"hist\")\n",
    "#c1"
   ]
  },
  {
   "cell_type": "code",
   "execution_count": 4,
   "metadata": {},
   "outputs": [],
   "source": [
    "#cnt=0\n",
    "#for el in tree:\n",
    "#    print el.phi\n",
    "#    cnt+=1\n",
    "#    if cnt==10: break\n"
   ]
  },
  {
   "cell_type": "code",
   "execution_count": 5,
   "metadata": {},
   "outputs": [],
   "source": [
    "def add_array_stack(stack,hist):\n",
    "    for i in range(len(stack)):\n",
    "        (stack[i]).Add(hist[i])"
   ]
  },
  {
   "cell_type": "code",
   "execution_count": 5,
   "metadata": {},
   "outputs": [],
   "source": [
    "#def extract_kin(beam_charge):\n",
    "    \n",
    "#    xbj = np.array([el.xbj for el in tree])\n",
    "#    Q2 = np.array([el.Q2 for el in tree])\n",
    "#    nu = np.array([el.nu for el in tree])\n",
    "#    phi = np.array([el.phi for el in tree])\n",
    "    \n",
    "    \n",
    "#extract_kin(-1)"
   ]
  },
  {
   "cell_type": "code",
   "execution_count": 7,
   "metadata": {},
   "outputs": [],
   "source": [
    "# créer classe pour mu+ et mu- avec les bons paramètres\n",
    "# USELESS"
   ]
  },
  {
   "cell_type": "code",
   "execution_count": 8,
   "metadata": {},
   "outputs": [],
   "source": [
    "class npTree:\n",
    "    \"\"\"\n",
    "    \n",
    "    \"\"\"\n",
    "    def __init__(self, file_path, tree_path, tree_name, charge):\n",
    "        self.sourceTree = extract_tree(file_path, tree_path, tree_name)\n",
    "        #self.npTree_charge = extract_tree(file_path, tree_path, tree_name)\n",
    "        self.beam_charge = charge\n",
    "            # extract subtree in array according to beam_charge choice\n",
    "            \n",
    "        #self.npTree_charge = [el for el in self.sourceTree if el.beam_charge == charge]\n",
    "        #self.npTree_charge = self.sourceTree[ (el.beam_charge == charge) for el in self.sourceTree]\n",
    "        #self.xbj = np.array([el.xbj for el in self.npTree_charge])\n",
    "        \n",
    "        self.t = np.array([el.t for el in self.sourceTree if el.beam_charge == charge])\n",
    "        self.xbj = np.array([el.xbj for el in self.sourceTree if el.beam_charge == charge])\n",
    "        self.Q2 = np.array([el.Q2 for el in self.sourceTree if el.beam_charge == charge])\n",
    "        self.nu = -np.array([el.nu for el in self.sourceTree if el.beam_charge == charge])\n",
    "        self.phi = np.array([el.phi for el in self.sourceTree if el.beam_charge == charge])\n",
    "        \n",
    "        "
   ]
  },
  {
   "cell_type": "code",
   "execution_count": 9,
   "metadata": {},
   "outputs": [],
   "source": [
    "#data_minus = npTree(\"data/hist.root\",\"With RPD/Dvcs Tree - t_cut_2\",\"T_dvcs\",-1)\n",
    "#data_minus = npTree(\"data/dvcs_tree_P07slot2_DR4.7.root\",\"With RPD/Dvcs Tree - t_cut_2\",\"T_dvcs\",-1)\n",
    "\n",
    "#print data_minus.t"
   ]
  },
  {
   "cell_type": "code",
   "execution_count": null,
   "metadata": {},
   "outputs": [],
   "source": []
  }
 ],
 "metadata": {
  "kernelspec": {
   "display_name": "Python 2",
   "language": "python",
   "name": "python2"
  },
  "language_info": {
   "codemirror_mode": {
    "name": "ipython",
    "version": 2
   },
   "file_extension": ".py",
   "mimetype": "text/x-python",
   "name": "python",
   "nbconvert_exporter": "python",
   "pygments_lexer": "ipython2",
   "version": "2.7.15"
  }
 },
 "nbformat": 4,
 "nbformat_minor": 2
}
